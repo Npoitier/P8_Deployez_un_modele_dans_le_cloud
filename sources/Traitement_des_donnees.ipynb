{
 "cells": [
  {
   "cell_type": "code",
   "execution_count": null,
   "id": "1ca5341d",
   "metadata": {},
   "outputs": [],
   "source": [
    "import boto3\n",
    "import os\n",
    "root_s3 = 'images'\n",
    "root = r'C:\\Users\\nisae\\OneDrive\\Documents\\DataScientist\\P8_Poitier_Nicolas\\archive\\fruits-360_dataset\\fruits-360\\Training'\n",
    "region_name=\"eu-west-3\""
   ]
  },
  {
   "cell_type": "markdown",
   "id": "a3d39ef0",
   "metadata": {},
   "source": [
    "# Suppression des Espaces dans le nom des dossiers et fichiers"
   ]
  },
  {
   "cell_type": "code",
   "execution_count": null,
   "id": "cac0cab4",
   "metadata": {},
   "outputs": [],
   "source": [
    "list_to_rename = []\n",
    "list_new_name = []\n",
    "\n",
    "for path, subdirs, files in os.walk(root):\n",
    "    #print()\n",
    "    #print(\"chemin\",path)\n",
    "    #print(\"subdir\")\n",
    "    for d in subdirs:        \n",
    "        nd = d.replace(' ','_')\n",
    "        if d != nd:\n",
    "            list_to_rename.append(path.replace(' ','_')+'\\\\'+d)\n",
    "            list_new_name.append(path.replace(' ','_')+'\\\\'+nd)\n",
    "            \n",
    "        #print(d,nd)\n",
    "    #print(\"files\")\n",
    "    for f in files:\n",
    "        nf = f.replace(' ','_')\n",
    "        if f != nf:\n",
    "            list_to_rename.append(path.replace(' ','_')+'\\\\'+f)\n",
    "            list_new_name.append(path.replace(' ','_')+'\\\\'+nf)\n",
    "        #print(f,nf)\n",
    "\n",
    "for i in range(len(list_to_rename)):\n",
    "    os.rename(list_to_rename[i],list_new_name[i])"
   ]
  },
  {
   "cell_type": "markdown",
   "id": "6c87f03d",
   "metadata": {},
   "source": [
    "# Chargement des données dans AWS S3"
   ]
  },
  {
   "cell_type": "code",
   "execution_count": null,
   "id": "53effa31",
   "metadata": {},
   "outputs": [],
   "source": [
    "def load_aws_key():\n",
    "    with open('keys.txt','r') as f:\n",
    "        msg = f.read()\n",
    "    ID = str(msg).split('\\n')[0]\n",
    "    KEY = msg.split('\\n')[1]\n",
    "    os.environ[\"AWS_ACCESS_KEY_ID\"]=ID\n",
    "    os.environ[\"AWS_SECRET_ACCESS_KEY\"]=KEY\n",
    "    return ID, KEY\n",
    "load_aws_key()\n",
    "\n",
    "session = boto3.session.Session(aws_access_key_id=os.environ[\"AWS_ACCESS_KEY_ID\"],\n",
    "                                        aws_secret_access_key=os.environ[\"AWS_SECRET_ACCESS_KEY\"])\n",
    "\n",
    "s3_client = session.client(service_name='s3', region_name=region_name)\n",
    "\n",
    "#Création du dossier directory_name\n",
    "directory_name = root_s3\n",
    "s3_client.put_object(Bucket=bucket_name, Key=(directory_name+'/'))\n",
    "s3 = boto3.resource(\"s3\", region_name=region_name)"
   ]
  },
  {
   "cell_type": "code",
   "execution_count": null,
   "id": "7c49138f",
   "metadata": {},
   "outputs": [],
   "source": [
    "for path, subdirs, files in os.walk(root):\n",
    "    #print()\n",
    "    #print(\"subdir\")\n",
    "    for d in subdirs:        \n",
    "        directory_name = (path.replace(root,root_s3)+'\\\\'+d+'\\\\').replace('\\\\','/')\n",
    "        #print(directory_name)\n",
    "        s3_client.put_object(Bucket=bucket_name, Key=(directory_name))\n",
    "    #print()\n",
    "    #print(\"files\")\n",
    "    for f in files:        \n",
    "        file = (path+'\\\\'+f).replace('\\\\','/').replace('\\\\','/')\n",
    "        distant_file = (path.replace(root,root_s3)+'\\\\'+f).replace('\\\\','/')\n",
    "        #print(file,distant_file)\n",
    "        s3.Object(bucket_name, distant_file ).upload_file(file)"
   ]
  }
 ],
 "metadata": {
  "kernelspec": {
   "display_name": "Python 3 (ipykernel)",
   "language": "python",
   "name": "python3"
  },
  "language_info": {
   "codemirror_mode": {
    "name": "ipython",
    "version": 3
   },
   "file_extension": ".py",
   "mimetype": "text/x-python",
   "name": "python",
   "nbconvert_exporter": "python",
   "pygments_lexer": "ipython3",
   "version": "3.9.13"
  }
 },
 "nbformat": 4,
 "nbformat_minor": 5
}

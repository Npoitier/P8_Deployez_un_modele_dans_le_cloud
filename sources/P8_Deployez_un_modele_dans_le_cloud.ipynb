{
 "cells": [
  {
   "cell_type": "code",
   "execution_count": 1,
   "id": "be1a025f",
   "metadata": {},
   "outputs": [],
   "source": [
    "import findspark\n",
    "findspark.init()\n",
    "findspark.find()\n",
    "#print(findspark.find())\n",
    "\n",
    "from pyspark import SparkContext, SparkConf\n",
    "from pyspark.sql import SparkSession\n",
    "from pyspark.ml.image import ImageSchema\n",
    "from pyspark.sql.functions import input_file_name\n",
    "from pyspark.sql.functions import udf\n",
    "from pyspark.sql.types import *\n",
    "import pandas as pd\n",
    "import numpy as np\n",
    "import os\n",
    "#from fnmatch import fnmatch\n",
    "from PIL import Image\n",
    "import time, datetime\n",
    "\n",
    "from pyspark.ml.feature import PCA\n",
    "from pyspark.ml.feature import StandardScaler\n",
    "from pyspark.ml.linalg import Vectors, VectorUDT, DenseVector\n",
    "from pyspark.sql import Row\n",
    "\n",
    "import boto3"
   ]
  },
  {
   "cell_type": "code",
   "execution_count": 3,
   "id": "031f48a8",
   "metadata": {},
   "outputs": [],
   "source": [
    "s3 = True\n",
    "\n",
    "root = r'C:\\Users\\nisae\\OneDrive\\Documents\\DataScientist\\P8_Poitier_Nicolas\\archive\\fruits-360_dataset\\fruits-360\\Training'\n",
    "\n",
    "\n",
    "region_name=\"eu-west-3\"\n",
    "bucket_name = 'p8imagestrain'\n",
    "root_s3 = 'images'\n",
    "\n",
    "folder = \"s3://\"+bucket_name+\"/\"+root_s3+\"/\"\n",
    "\n",
    "# connection s3 et création root_s3\n",
    "def load_aws_key():\n",
    "    '''charge ID/KEY de AWS dans variables d'environnement si définies sinon dans le fichier keys.txt'''\n",
    "    with open('keys.txt','r') as f:\n",
    "        msg = f.read()\n",
    "    ID = str(msg).split('\\n')[0]\n",
    "    KEY = msg.split('\\n')[1]\n",
    "    #print(ID,KEY)\n",
    "    os.environ[\"AWS_ACCESS_KEY_ID\"]=ID\n",
    "    os.environ[\"AWS_SECRET_ACCESS_KEY\"]=KEY\n",
    "    return ID, KEY\n",
    "load_aws_key()\n",
    "\n",
    "\n",
    "session = boto3.session.Session(aws_access_key_id=os.environ[\"AWS_ACCESS_KEY_ID\"],\n",
    "                                        aws_secret_access_key=os.environ[\"AWS_SECRET_ACCESS_KEY\"]                                \n",
    "                               )\n",
    "role_session_name = \"test-s3\"\n",
    "role_arn = \"arn:aws:iam::660870459774:role/test_Nisaesno\"\n",
    "\n",
    "s3_client = session.client(\n",
    "        service_name='s3', \n",
    "        region_name=region_name\n",
    "    \n",
    "    )\n",
    "\n",
    "sts_client = session.client(\n",
    "        service_name='sts', \n",
    "        region_name=region_name    \n",
    "    ).assume_role(\n",
    "        RoleArn=role_arn,\n",
    "        RoleSessionName=role_session_name\n",
    "    )\n",
    "credentials = sts_client['Credentials']\n",
    "test = credentials.get(\"SessionToken\")\n",
    "\n"
   ]
  },
  {
   "cell_type": "code",
   "execution_count": 14,
   "id": "d659fffb",
   "metadata": {},
   "outputs": [],
   "source": [
    "def time_value(temps):\n",
    "    h = 0\n",
    "    mn = 0\n",
    "    sec = temps % 60\n",
    "    mn = temps // 60\n",
    "    if mn >= 60 :\n",
    "        h = mn // 60\n",
    "        mn = mn % 60\n",
    "    return \"{}:{}:{}\".format(int(h),int(mn),sec)"
   ]
  },
  {
   "cell_type": "code",
   "execution_count": 15,
   "id": "34e5c0e7",
   "metadata": {},
   "outputs": [
    {
     "name": "stderr",
     "output_type": "stream",
     "text": [
      "WARNING: An illegal reflective access operation has occurred\n",
      "WARNING: Illegal reflective access by org.apache.spark.unsafe.Platform (file:/home/ec2-user/.local/lib/python3.7/site-packages/pyspark/jars/spark-unsafe_2.12-3.2.2.jar) to constructor java.nio.DirectByteBuffer(long,int)\n",
      "WARNING: Please consider reporting this to the maintainers of org.apache.spark.unsafe.Platform\n",
      "WARNING: Use --illegal-access=warn to enable warnings of further illegal reflective access operations\n",
      "WARNING: All illegal access operations will be denied in a future release\n",
      "Using Spark's default log4j profile: org/apache/spark/log4j-defaults.properties\n",
      "Setting default log level to \"WARN\".\n",
      "To adjust logging level use sc.setLogLevel(newLevel). For SparkR, use setLogLevel(newLevel).\n",
      "22/11/07 14:21:13 WARN NativeCodeLoader: Unable to load native-hadoop library for your platform... using builtin-java classes where applicable\n"
     ]
    }
   ],
   "source": [
    "    sc = SparkContext.getOrCreate()\n",
    "    sc.setLogLevel('WARN')\n",
    "    spark = SparkSession.builder.appName(\"name\").getOrCreate()"
   ]
  },
  {
   "cell_type": "code",
   "execution_count": 16,
   "id": "39f57774",
   "metadata": {},
   "outputs": [],
   "source": [
    "def image_data(img_path):\n",
    "    # get object et redim avec Pil\n",
    "    if s3:\n",
    "        img_path = img_path.replace(\"s3://\"+bucket_name+\"/\", \"\")\n",
    "        s3t = boto3.resource(\"s3\", region_name=region_name)\n",
    "        bucket = s3t.Bucket(bucket_name)\n",
    "        object = bucket.Object(img_path)\n",
    "        response = object.get()\n",
    "        img_path = response['Body']\n",
    "    \n",
    "    image = Image.open(img_path)\n",
    "    image = image.resize((25, 25))\n",
    "    imagevec = np.asarray(image).flatten().tolist()\n",
    "    return imagevec"
   ]
  },
  {
   "cell_type": "code",
   "execution_count": 17,
   "id": "219f28d0",
   "metadata": {},
   "outputs": [],
   "source": [
    "def extract_categ(path):\n",
    "    path = path.replace(\"/\",\"\\\\\")\n",
    "    list_file = path.split(\"\\\\\")\n",
    "    categ = list_file[-2]    \n",
    "    return categ"
   ]
  },
  {
   "cell_type": "code",
   "execution_count": 18,
   "id": "bf4bc7c5",
   "metadata": {},
   "outputs": [],
   "source": [
    "def load_Dataframe(root):\n",
    "    data = []\n",
    "    # connection s3 & chemins de fichiers\n",
    "    if s3:        \n",
    "        sub_folders = s3_client.list_objects_v2(Bucket=bucket_name, Prefix=root_s3)\n",
    "        for key in sub_folders[\"Contents\"]:\n",
    "            file = key[\"Key\"]\n",
    "            # print(file)\n",
    "            file = file.replace(root_s3 + \"/\", \"\")\n",
    "            if  file.find('.jpg') != -1:\n",
    "                data.append(folder + file)\n",
    "    else:\n",
    "        for path, subdirs, files in os.walk(root):\n",
    "            for name in files:\n",
    "                if fnmatch(name, pattern):\n",
    "                    img_path= os.path.join(path, name)                                \n",
    "                    data.append(img_path)\n",
    "                \n",
    "                \n",
    "    # Création d'un RDD à partit de la liste des chemins d'accès aux images\n",
    "    rdd = sc.parallelize(data)\n",
    "    row_rdd = rdd.map(lambda x: Row(x))\n",
    "    # Création d'un dataFrame pyspark à partir d'un RDD\n",
    "    df = spark.createDataFrame(row_rdd, [\"path\"])\n",
    "    \n",
    "    udf_categ = udf(extract_categ, StringType())\n",
    "    df = df.withColumn(\"categ\", udf_categ('path'))\n",
    "    \n",
    "    udf_data = udf(image_data, ArrayType(IntegerType()))\n",
    "    df = df.withColumn(\"data\", udf_data('path'))\n",
    "    \n",
    "    ud_f = udf(lambda r: Vectors.dense(r), VectorUDT())\n",
    "    df = df.withColumn('image_dense', ud_f('data'))    \n",
    "    \n",
    "    return df"
   ]
  },
  {
   "cell_type": "code",
   "execution_count": 19,
   "id": "c2de0ecd",
   "metadata": {},
   "outputs": [
    {
     "name": "stderr",
     "output_type": "stream",
     "text": [
      "[Stage 1:>                                                          (0 + 1) / 1]\r"
     ]
    },
    {
     "name": "stdout",
     "output_type": "stream",
     "text": [
      "+--------------------+--------------+--------------------+--------------------+\n",
      "|                path|         categ|                data|         image_dense|\n",
      "+--------------------+--------------+--------------------+--------------------+\n",
      "|s3://p8imagestrai...|Apple_Braeburn|[254, 255, 255, 2...|[254.0,255.0,255....|\n",
      "|s3://p8imagestrai...|Apple_Braeburn|[253, 254, 254, 2...|[253.0,254.0,254....|\n",
      "|s3://p8imagestrai...|Apple_Braeburn|[253, 254, 254, 2...|[253.0,254.0,254....|\n",
      "|s3://p8imagestrai...|Apple_Braeburn|[254, 254, 254, 2...|[254.0,254.0,254....|\n",
      "|s3://p8imagestrai...|Apple_Braeburn|[252, 254, 252, 2...|[252.0,254.0,252....|\n",
      "|s3://p8imagestrai...|Apple_Braeburn|[253, 254, 254, 2...|[253.0,254.0,254....|\n",
      "|s3://p8imagestrai...|Apple_Braeburn|[255, 254, 254, 2...|[255.0,254.0,254....|\n",
      "|s3://p8imagestrai...|Apple_Braeburn|[252, 255, 253, 2...|[252.0,255.0,253....|\n",
      "|s3://p8imagestrai...|Apple_Braeburn|[253, 254, 254, 2...|[253.0,254.0,254....|\n",
      "|s3://p8imagestrai...|Apple_Braeburn|[253, 254, 253, 2...|[253.0,254.0,253....|\n",
      "|s3://p8imagestrai...|Apple_Braeburn|[253, 254, 253, 2...|[253.0,254.0,253....|\n",
      "|s3://p8imagestrai...|Apple_Braeburn|[255, 255, 255, 2...|[255.0,255.0,255....|\n",
      "|s3://p8imagestrai...|Apple_Braeburn|[253, 254, 253, 2...|[253.0,254.0,253....|\n",
      "|s3://p8imagestrai...|Apple_Braeburn|[255, 254, 254, 2...|[255.0,254.0,254....|\n",
      "|s3://p8imagestrai...|Apple_Braeburn|[255, 255, 255, 2...|[255.0,255.0,255....|\n",
      "|s3://p8imagestrai...|Apple_Braeburn|[255, 255, 254, 2...|[255.0,255.0,254....|\n",
      "|s3://p8imagestrai...|Apple_Braeburn|[253, 255, 254, 2...|[253.0,255.0,254....|\n",
      "|s3://p8imagestrai...|Apple_Braeburn|[254, 254, 254, 2...|[254.0,254.0,254....|\n",
      "|s3://p8imagestrai...|Apple_Braeburn|[254, 255, 253, 2...|[254.0,255.0,253....|\n",
      "|s3://p8imagestrai...|Apple_Braeburn|[254, 255, 253, 2...|[254.0,255.0,253....|\n",
      "+--------------------+--------------+--------------------+--------------------+\n",
      "only showing top 20 rows\n",
      "\n",
      "temps d'exécution  0:0:19.79408574104309  en secondes  19.79408574104309\n"
     ]
    },
    {
     "name": "stderr",
     "output_type": "stream",
     "text": [
      "                                                                                \r"
     ]
    }
   ],
   "source": [
    "debut = time.time()\n",
    "\n",
    "root = r'C:\\Users\\nisae\\OneDrive\\Documents\\DataScientist\\P8_Poitier_Nicolas\\archive\\fruits-360_dataset\\fruits-360\\Training'\n",
    "pattern = \"*.jpg\"\n",
    "\n",
    "df = load_Dataframe(root)\n",
    "df.show()\n",
    "#df.write.parquet(path='results', mode='overwrite')\n",
    "\n",
    "\n",
    "temps_d_execution = time.time()-debut\n",
    "print(\"temps d'exécution \",time_value(temps_d_execution),\" en secondes \",temps_d_execution)"
   ]
  },
  {
   "cell_type": "code",
   "execution_count": 20,
   "id": "a41f06bb",
   "metadata": {},
   "outputs": [
    {
     "name": "stderr",
     "output_type": "stream",
     "text": [
      "22/11/07 14:26:39 WARN InstanceBuilder$NativeBLAS: Failed to load implementation from:dev.ludovic.netlib.blas.JNIBLAS\n",
      "22/11/07 14:26:39 WARN InstanceBuilder$NativeBLAS: Failed to load implementation from:dev.ludovic.netlib.blas.ForeignLinkerBLAS\n",
      "22/11/07 14:27:04 WARN LAPACK: Failed to load implementation from: com.github.fommil.netlib.NativeSystemLAPACK\n",
      "22/11/07 14:27:04 WARN LAPACK: Failed to load implementation from: com.github.fommil.netlib.NativeRefLAPACK\n",
      "[Stage 10:>                                                         (0 + 1) / 1]\r"
     ]
    },
    {
     "name": "stdout",
     "output_type": "stream",
     "text": [
      "+--------------------+--------------+--------------------+--------------------+--------------------+--------------------+\n",
      "|                path|         categ|                data|         image_dense|      scaledFeatures|         pcaFeatures|\n",
      "+--------------------+--------------+--------------------+--------------------+--------------------+--------------------+\n",
      "|s3://p8imagestrai...|Apple_Braeburn|[254, 255, 255, 2...|[254.0,255.0,255....|[-0.6571120881328...|[23.0010123601878...|\n",
      "|s3://p8imagestrai...|Apple_Braeburn|[253, 254, 254, 2...|[253.0,254.0,254....|[-1.8943212370559...|[4.13462872721743...|\n",
      "|s3://p8imagestrai...|Apple_Braeburn|[253, 254, 254, 2...|[253.0,254.0,254....|[-1.8943212370559...|[3.94216639184256...|\n",
      "|s3://p8imagestrai...|Apple_Braeburn|[254, 254, 254, 2...|[254.0,254.0,254....|[-0.6571120881328...|[3.61615728793495...|\n",
      "|s3://p8imagestrai...|Apple_Braeburn|[252, 254, 252, 2...|[252.0,254.0,252....|[-3.1315303859791...|[3.51636772888551...|\n",
      "|s3://p8imagestrai...|Apple_Braeburn|[253, 254, 254, 2...|[253.0,254.0,254....|[-1.8943212370559...|[3.22406923270634...|\n",
      "|s3://p8imagestrai...|Apple_Braeburn|[255, 254, 254, 2...|[255.0,254.0,254....|[0.58009706079037...|[3.11046513743157...|\n",
      "|s3://p8imagestrai...|Apple_Braeburn|[252, 255, 253, 2...|[252.0,255.0,253....|[-3.1315303859791...|[3.06724582288118...|\n",
      "|s3://p8imagestrai...|Apple_Braeburn|[253, 254, 254, 2...|[253.0,254.0,254....|[-1.8943212370559...|[3.19975526764517...|\n",
      "|s3://p8imagestrai...|Apple_Braeburn|[253, 254, 253, 2...|[253.0,254.0,253....|[-1.8943212370559...|[2.85242114741134...|\n",
      "|s3://p8imagestrai...|Apple_Braeburn|[253, 254, 253, 2...|[253.0,254.0,253....|[-1.8943212370559...|[2.85189221708245...|\n",
      "|s3://p8imagestrai...|Apple_Braeburn|[255, 255, 255, 2...|[255.0,255.0,255....|[0.58009706079037...|[17.7109297837460...|\n",
      "|s3://p8imagestrai...|Apple_Braeburn|[253, 254, 253, 2...|[253.0,254.0,253....|[-1.8943212370559...|[2.65970576763842...|\n",
      "|s3://p8imagestrai...|Apple_Braeburn|[255, 254, 254, 2...|[255.0,254.0,254....|[0.58009706079037...|[2.63597610261637...|\n",
      "|s3://p8imagestrai...|Apple_Braeburn|[255, 255, 255, 2...|[255.0,255.0,255....|[0.58009706079037...|[2.48633090249729...|\n",
      "|s3://p8imagestrai...|Apple_Braeburn|[255, 255, 254, 2...|[255.0,255.0,254....|[0.58009706079037...|[2.55030007848926...|\n",
      "|s3://p8imagestrai...|Apple_Braeburn|[253, 255, 254, 2...|[253.0,255.0,254....|[-1.8943212370559...|[2.32932441495771...|\n",
      "|s3://p8imagestrai...|Apple_Braeburn|[254, 254, 254, 2...|[254.0,254.0,254....|[-0.6571120881328...|[2.25058253363284...|\n",
      "|s3://p8imagestrai...|Apple_Braeburn|[254, 255, 253, 2...|[254.0,255.0,253....|[-0.6571120881328...|[2.10346959548141...|\n",
      "|s3://p8imagestrai...|Apple_Braeburn|[254, 255, 253, 2...|[254.0,255.0,253....|[-0.6571120881328...|[1.97019059824867...|\n",
      "+--------------------+--------------+--------------------+--------------------+--------------------+--------------------+\n",
      "only showing top 20 rows\n",
      "\n",
      "temps d'exécution  0:2:34.31420874595642  en secondes  154.31420874595642\n"
     ]
    },
    {
     "name": "stderr",
     "output_type": "stream",
     "text": [
      "                                                                                \r"
     ]
    }
   ],
   "source": [
    "debut = time.time()\n",
    "standardizer = StandardScaler(inputCol=\"image_dense\", outputCol=\"scaledFeatures\",\n",
    "                                  withStd=True, withMean=True)\n",
    "model_std = standardizer.fit(df)\n",
    "df = model_std.transform(df)\n",
    "\n",
    "# Entrainement de l'algorithme\n",
    "n_components=50\n",
    "pca = PCA(k=n_components, inputCol='scaledFeatures', outputCol='pcaFeatures')\n",
    "model_pca = pca.fit(df)\n",
    "\n",
    "# Transformation des images sur les k premières composantes\n",
    "df = model_pca.transform(df)  \n",
    "\n",
    "df.show()\n",
    "\n",
    "temps_d_execution = time.time()-debut\n",
    "print(\"temps d'exécution \",time_value(temps_d_execution),\" en secondes \",temps_d_execution)"
   ]
  },
  {
   "cell_type": "code",
   "execution_count": 26,
   "id": "09b3b364",
   "metadata": {},
   "outputs": [
    {
     "name": "stderr",
     "output_type": "stream",
     "text": [
      "[Stage 15:>                                                         (0 + 1) / 1]\r"
     ]
    },
    {
     "name": "stdout",
     "output_type": "stream",
     "text": [
      "+--------------------+--------------+--------------------+\n",
      "|                path|         categ|         pcaFeatures|\n",
      "+--------------------+--------------+--------------------+\n",
      "|s3://p8imagestrai...|Apple_Braeburn|[23.0010123601878...|\n",
      "|s3://p8imagestrai...|Apple_Braeburn|[4.13462872721743...|\n",
      "|s3://p8imagestrai...|Apple_Braeburn|[3.94216639184256...|\n",
      "|s3://p8imagestrai...|Apple_Braeburn|[3.61615728793495...|\n",
      "|s3://p8imagestrai...|Apple_Braeburn|[3.51636772888551...|\n",
      "|s3://p8imagestrai...|Apple_Braeburn|[3.22406923270634...|\n",
      "|s3://p8imagestrai...|Apple_Braeburn|[3.11046513743157...|\n",
      "|s3://p8imagestrai...|Apple_Braeburn|[3.06724582288118...|\n",
      "|s3://p8imagestrai...|Apple_Braeburn|[3.19975526764517...|\n",
      "|s3://p8imagestrai...|Apple_Braeburn|[2.85242114741134...|\n",
      "|s3://p8imagestrai...|Apple_Braeburn|[2.85189221708245...|\n",
      "|s3://p8imagestrai...|Apple_Braeburn|[17.7109297837460...|\n",
      "|s3://p8imagestrai...|Apple_Braeburn|[2.65970576763842...|\n",
      "|s3://p8imagestrai...|Apple_Braeburn|[2.63597610261637...|\n",
      "|s3://p8imagestrai...|Apple_Braeburn|[2.48633090249729...|\n",
      "|s3://p8imagestrai...|Apple_Braeburn|[2.55030007848926...|\n",
      "|s3://p8imagestrai...|Apple_Braeburn|[2.32932441495771...|\n",
      "|s3://p8imagestrai...|Apple_Braeburn|[2.25058253363284...|\n",
      "|s3://p8imagestrai...|Apple_Braeburn|[2.10346959548141...|\n",
      "|s3://p8imagestrai...|Apple_Braeburn|[1.97019059824867...|\n",
      "+--------------------+--------------+--------------------+\n",
      "only showing top 20 rows\n",
      "\n",
      "temps d'exécution  0:0:6.415910243988037  en secondes  6.415910243988037\n"
     ]
    },
    {
     "name": "stderr",
     "output_type": "stream",
     "text": [
      "                                                                                \r"
     ]
    }
   ],
   "source": [
    "debut = time.time()\n",
    "new_df = df.select(\"path\",\"categ\",\"pcaFeatures\")\n",
    "new_df.show()\n",
    "temps_d_execution = time.time()-debut\n",
    "print(\"temps d'exécution \",time_value(temps_d_execution),\" en secondes \",temps_d_execution)"
   ]
  },
  {
   "cell_type": "code",
   "execution_count": 27,
   "id": "1eecdac9",
   "metadata": {},
   "outputs": [
    {
     "name": "stdout",
     "output_type": "stream",
     "text": [
      "s3a://p8imagestrain/result/preprocessed_parquet\n"
     ]
    },
    {
     "name": "stderr",
     "output_type": "stream",
     "text": [
      "22/11/07 14:36:22 WARN DAGScheduler: Broadcasting large task binary with size 1002.9 KiB\n",
      "                                                                                \r"
     ]
    },
    {
     "name": "stdout",
     "output_type": "stream",
     "text": [
      "temps d'exécution  0:0:34.06857919692993  en secondes  34.06857919692993\n"
     ]
    }
   ],
   "source": [
    "debut = time.time()\n",
    "if s3:\n",
    "    chemin_save = 's3a://'+ bucket_name + '/result/preprocessed_parquet'\n",
    "else:\n",
    "    chemin_save = 'preprocessed_parquet'\n",
    "print(chemin_save)\n",
    "new_df.write.format(\"parquet\").mode('overwrite').save(chemin_save)\n",
    "temps_d_execution = time.time()-debut\n",
    "print(\"temps d'exécution \",time_value(temps_d_execution),\" en secondes \",temps_d_execution)"
   ]
  },
  {
   "cell_type": "code",
   "execution_count": 28,
   "id": "f905dfc4",
   "metadata": {},
   "outputs": [
    {
     "name": "stdout",
     "output_type": "stream",
     "text": [
      "+--------------------+------------------+--------------------+\n",
      "|                path|             categ|         pcaFeatures|\n",
      "+--------------------+------------------+--------------------+\n",
      "|s3://p8imagestrai...|Apple_Crimson_Snow|[-26.468702948483...|\n",
      "|s3://p8imagestrai...|Apple_Crimson_Snow|[-13.358247264670...|\n",
      "|s3://p8imagestrai...|Apple_Crimson_Snow|[-13.653927582205...|\n",
      "|s3://p8imagestrai...|Apple_Crimson_Snow|[-13.622335603041...|\n",
      "|s3://p8imagestrai...|Apple_Crimson_Snow|[-13.927992678380...|\n",
      "|s3://p8imagestrai...|Apple_Crimson_Snow|[-25.985058139381...|\n",
      "|s3://p8imagestrai...|Apple_Crimson_Snow|[-14.159648916978...|\n",
      "|s3://p8imagestrai...|Apple_Crimson_Snow|[-14.566198228096...|\n",
      "|s3://p8imagestrai...|Apple_Crimson_Snow|[-14.611084101068...|\n",
      "|s3://p8imagestrai...|Apple_Crimson_Snow|[-15.154419570234...|\n",
      "|s3://p8imagestrai...|Apple_Crimson_Snow|[-15.183692560593...|\n",
      "|s3://p8imagestrai...|Apple_Crimson_Snow|[-15.400038299591...|\n",
      "|s3://p8imagestrai...|Apple_Crimson_Snow|[-15.699666202774...|\n",
      "|s3://p8imagestrai...|Apple_Crimson_Snow|[-15.776242341189...|\n",
      "|s3://p8imagestrai...|Apple_Crimson_Snow|[-15.791816620097...|\n",
      "|s3://p8imagestrai...|Apple_Crimson_Snow|[-16.164039588263...|\n",
      "|s3://p8imagestrai...|Apple_Crimson_Snow|[-26.336108118006...|\n",
      "|s3://p8imagestrai...|Apple_Crimson_Snow|[-15.930895477821...|\n",
      "|s3://p8imagestrai...|Apple_Crimson_Snow|[-16.251569173055...|\n",
      "|s3://p8imagestrai...|Apple_Crimson_Snow|[-16.589936506073...|\n",
      "+--------------------+------------------+--------------------+\n",
      "only showing top 20 rows\n",
      "\n",
      "temps d'exécution  0:0:0.7132506370544434  en secondes  0.7132506370544434\n"
     ]
    }
   ],
   "source": [
    "debut = time.time()\n",
    "df_parquet = spark.read.format('parquet').load(chemin_save)\n",
    "df_parquet.show()\n",
    "temps_d_execution = time.time()-debut\n",
    "print(\"temps d'exécution \",time_value(temps_d_execution),\" en secondes \",temps_d_execution)"
   ]
  },
  {
   "cell_type": "code",
   "execution_count": null,
   "id": "c55dfc4d",
   "metadata": {},
   "outputs": [],
   "source": []
  }
 ],
 "metadata": {
  "kernelspec": {
   "display_name": "Python 3 (ipykernel)",
   "language": "python",
   "name": "python3"
  },
  "language_info": {
   "codemirror_mode": {
    "name": "ipython",
    "version": 3
   },
   "file_extension": ".py",
   "mimetype": "text/x-python",
   "name": "python",
   "nbconvert_exporter": "python",
   "pygments_lexer": "ipython3",
   "version": "3.9.13"
  }
 },
 "nbformat": 4,
 "nbformat_minor": 5
}
